{
 "cells": [
  {
   "cell_type": "markdown",
   "metadata": {},
   "source": [
    "## Taxi Prices with PySpark"
   ]
  },
  {
   "cell_type": "markdown",
   "metadata": {},
   "source": [
    "#### In this Notebook, we will solve a classification problem using PySpark"
   ]
  },
  {
   "cell_type": "markdown",
   "metadata": {},
   "source": [
    "#### steps in the terminal before running this notebook - \n",
    "\n",
    "\n",
    "sudo yum update -y\n",
    "\n",
    "sudo python3 -m pip install anaconda pandas scikit-learn pycm  py4j kaggle jupyter jupyterlab geopy matplotlib\n",
    "\n",
    "tmux new -s asaf_session\n",
    "\n",
    "export PYSPARK_DRIVER_PYTHON=jupyter\n",
    "\n",
    "export PYSPARK_DRIVER_PYTHON_OPTS=’notebook — no-browser — ip=0.0.0.0 — port=8888'\n",
    "\n",
    "source .bashrc\n",
    "\n",
    "mkdir .kaggle\n",
    "echo {\"username\":<your_user_name>, \"key\":<your_key>} >> .kaggle/kaggle.json   # do this with vim\n",
    "\n",
    "pyspark    # launches jupyter with pyspark\n"
   ]
  },
  {
   "cell_type": "code",
   "execution_count": null,
   "metadata": {},
   "outputs": [],
   "source": []
  },
  {
   "cell_type": "code",
   "execution_count": 2,
   "metadata": {},
   "outputs": [
    {
     "name": "stdout",
     "output_type": "stream",
     "text": [
      "Warning: Your Kaggle API key is readable by other users on this system! To fix this, you can run 'chmod 600 /home/hadoop/.kaggle/kaggle.json'\n",
      "idc_train.csv.zip: Skipping, found more recently modified local copy (use --force to force download)\n",
      "Warning: Your Kaggle API key is readable by other users on this system! To fix this, you can run 'chmod 600 /home/hadoop/.kaggle/kaggle.json'\n",
      "idc_test.csv: Skipping, found more recently modified local copy (use --force to force download)\n"
     ]
    }
   ],
   "source": [
    "# Installing the needed packages\n",
    "import kaggle\n",
    "!kaggle competitions download -f idc_train.csv idc-big-data-ml-competition\n",
    "!sudo apt install unzip\n",
    "!unzip idc_train.csv.zip\n",
    "!kaggle competitions download -f idc_test.csv idc-big-data-ml-competition\n"
   ]
  },
  {
   "cell_type": "code",
   "execution_count": 1,
   "metadata": {},
   "outputs": [
    {
     "data": {
      "text/html": [
       "\n",
       "        <div>\n",
       "            <p><b>SparkContext</b></p>\n",
       "\n",
       "            <p><a href=\"http://ip-172-31-111-103.eu-west-1.compute.internal:4040\">Spark UI</a></p>\n",
       "\n",
       "            <dl>\n",
       "              <dt>Version</dt>\n",
       "                <dd><code>v2.4.4</code></dd>\n",
       "              <dt>Master</dt>\n",
       "                <dd><code>yarn</code></dd>\n",
       "              <dt>AppName</dt>\n",
       "                <dd><code>PySparkShell</code></dd>\n",
       "            </dl>\n",
       "        </div>\n",
       "        "
      ],
      "text/plain": [
       "<SparkContext master=yarn appName=PySparkShell>"
      ]
     },
     "execution_count": 1,
     "metadata": {},
     "output_type": "execute_result"
    }
   ],
   "source": [
    "# checking that spark context is available\n",
    "sc"
   ]
  },
  {
   "cell_type": "code",
   "execution_count": 2,
   "metadata": {},
   "outputs": [],
   "source": [
    "from pyspark.sql import SparkSession, SQLContext\n",
    "from pyspark import SparkConf, SparkContext\n",
    "conf = SparkConf()\n",
    "conf.set(\"spark.executor.memory\", \"16g\")\n",
    "conf.set(\"spark.driver.memory\", \"16g\")\n",
    "spark_context = SparkContext.getOrCreate(conf)\n",
    "spark = SparkSession(spark_context)\n",
    "sc = spark"
   ]
  },
  {
   "cell_type": "code",
   "execution_count": 3,
   "metadata": {},
   "outputs": [],
   "source": [
    "#Library Importing\n",
    "import matplotlib.pyplot as plt\n",
    "import pyspark\n",
    "from pyspark.sql import SparkSession\n",
    "from pyspark.context import SparkContext\n",
    "from pyspark.sql.functions import *\n",
    "from pyspark.sql.types import *\n",
    "from datetime import date, timedelta, datetime\n",
    "import time\n",
    "import numpy as np\n",
    "import matplotlib.pyplot as plt\n",
    "\n",
    "from pyspark.sql import functions\n",
    "\n",
    "from pyspark.mllib.linalg import Vectors, VectorUDT\n",
    "from pyspark.ml.feature import Bucketizer\n",
    "import numpy as np\n",
    "from pyspark.ml.feature import VectorAssembler, Normalizer\n",
    "from pyspark.ml.clustering import KMeans\n",
    "from pyspark.sql import *\n",
    "from pyspark.mllib.linalg import *\n",
    "from pyspark.ml.evaluation import BinaryClassificationEvaluator;\n",
    "from pyspark.ml.feature import OneHotEncoder\n",
    "\n",
    "from pyspark.ml.feature import VectorAssembler, MinMaxScaler, StandardScaler\n",
    "from pyspark.ml import Pipeline\n",
    "from pyspark.ml.classification import LogisticRegression, GBTClassifier\n",
    "\n",
    " # confusion matrix\n",
    "from pyspark.mllib.util import MLUtils\n",
    "from pyspark.mllib.evaluation import MulticlassMetrics\n",
    "import pyspark.sql.functions as F\n",
    "\n",
    "from pyspark.ml.feature import Imputer\n",
    "from sklearn.metrics import plot_confusion_matrix\n",
    "from pyspark.sql.functions import format_number as fmt\n",
    "\n",
    "from pyspark.ml.feature import Normalizer # RobustScaler,\n",
    "from pyspark.ml.feature import OneHotEncoder\n",
    "\n",
    "from sklearn.metrics import classification_report, confusion_matrix, plot_confusion_matrix\n"
   ]
  },
  {
   "cell_type": "code",
   "execution_count": 11,
   "metadata": {},
   "outputs": [],
   "source": [
    "# copy the data from local fs to hadoop fs\n",
    "!hadoop fs -put idc_train.csv /user/hadoop/idc_train.csv\n",
    "!hadoop fs -put idc_test.csv /user/hadoop/idc_test.csv\n"
   ]
  },
  {
   "cell_type": "code",
   "execution_count": 4,
   "metadata": {},
   "outputs": [
    {
     "name": "stdout",
     "output_type": "stream",
     "text": [
      "CPU times: user 4.38 ms, sys: 52 µs, total: 4.43 ms\n",
      "Wall time: 673 ms\n"
     ]
    }
   ],
   "source": [
    "%%time\n",
    "sc = spark\n",
    "schema = StructType([\n",
    "    StructField(\"key\", IntegerType()),\n",
    "    StructField(\"fare_amount\", DoubleType()),\n",
    "    StructField(\"pickup_datetime\", StringType()),\n",
    "    StructField(\"pickup_longitude\", DoubleType()),\n",
    "    StructField(\"pickup_latitude\", DoubleType()),\n",
    "    StructField(\"dropoff_longitude\", DoubleType()),\n",
    "    StructField(\"dropoff_latitude\", DoubleType()),\n",
    "    StructField(\"passenger_count\", DoubleType())\n",
    "])\n",
    "\n",
    "\n",
    "train = sc.read.csv(\"/user/hadoop/idc_train.csv\", schema=schema, header = True)\n",
    "df=  train\n",
    "\n"
   ]
  },
  {
   "cell_type": "markdown",
   "metadata": {},
   "source": [
    "**Data cleaning**"
   ]
  },
  {
   "cell_type": "code",
   "execution_count": 5,
   "metadata": {},
   "outputs": [
    {
     "name": "stdout",
     "output_type": "stream",
     "text": [
      "CPU times: user 26.9 ms, sys: 8.27 ms, total: 35.2 ms\n",
      "Wall time: 26.5 s\n"
     ]
    }
   ],
   "source": [
    "%%time\n",
    "\n",
    "# Removing non-relevant data (with a non-valid values)\n",
    "df = df.filter((df.pickup_longitude != 0) & (df.pickup_latitude != 0) & (df.dropoff_longitude != 0) & (df.dropoff_latitude != 0))  # averaging isn't relevant here - remove 0 values of location\n",
    "\n",
    "df = df.filter((df.pickup_longitude != df.dropoff_longitude) & (df.pickup_latitude != df.dropoff_latitude) )  # remove rows where drop and pick is the same\n",
    "\n",
    "df = df.filter((df.passenger_count > 0) &  (df.passenger_count < 6)) # maximal number of passengres is 5 in a regular car, we consider all other as outliers\n",
    "\n",
    "\n",
    "# Take median values for missing values - seems better than mean\n",
    "imputer = Imputer(strategy='median', missingValue=0,\n",
    "                  inputCols= [\"fare_amount\",   \"passenger_count\"], \n",
    "                  outputCols=[\"fare_amount\",   \"passenger_count\"]\n",
    ")\n",
    "\n",
    "imputer.fit(df).transform(df)\n",
    "df = df.na.drop()  # drop rows with any nan values (for the non-numeric columns)\n",
    "\n",
    "df.withColumn(\"passenger_count\", df.passenger_count.cast(\"double\"))\n",
    "\n",
    "df = df.withColumn(\"high_fare\", (df.fare_amount >= 10).cast('double'))\n",
    "\n",
    "# This line is in order to see the affects of data cleaning on the dataset\n",
    "# print(\"Size after filtering : {}\".format(df.count()))"
   ]
  },
  {
   "cell_type": "markdown",
   "metadata": {},
   "source": [
    "**Feature Engineering**"
   ]
  },
  {
   "cell_type": "code",
   "execution_count": 6,
   "metadata": {},
   "outputs": [
    {
     "name": "stdout",
     "output_type": "stream",
     "text": [
      "+---+-----------+--------------------+----------------+---------------+-----------------+----------------+---------------+---------+------------+-----------+-----------+----------+--------------------+------------------+---------------------+\n",
      "|key|fare_amount|     pickup_datetime|pickup_longitude|pickup_latitude|dropoff_longitude|dropoff_latitude|passenger_count|high_fare|pickup_month|pickup_year|pickup_hour|pickup_day|       fare_distance|  travel_direction|travel_direction_bins|\n",
      "+---+-----------+--------------------+----------------+---------------+-----------------+----------------+---------------+---------+------------+-----------+-----------+----------+--------------------+------------------+---------------------+\n",
      "|  1|        8.5|2010-03-30 19:27:...|       -73.96539|      40.768574|       -73.998184|       40.761074|            1.0|      0.0|           3|       2010|         19|         3| 0.04029399999999583| 77.15442209743344|                  0.0|\n",
      "|  2|      35.47|2010-08-10 20:02:...|      -73.967354|      40.769295|       -73.967285|       40.802975|            1.0|      1.0|           8|       2010|         20|         3| 0.03374900000000025| 180.1171043152077|                  2.0|\n",
      "|  3|        6.1|2011-03-13 13:24:...|       -73.96884|      40.758278|       -73.961395|       40.768566|            1.0|      0.0|           3|       2011|         13|         1|0.017733000000006882|215.79417612812279|                  2.0|\n",
      "|  4|        9.7|2011-06-11 19:45:...|       -73.98218|      40.774796|        -73.95431|        40.78315|            1.0|      0.0|           6|       2011|         19|         7| 0.03622399999999004| 253.2356979946466|                  2.0|\n",
      "|  5|        7.7|2011-12-03 13:16:...|        -73.9778|       40.74228|       -73.998634|       40.734917|            1.0|      0.0|          12|       2011|         13|         7| 0.02819699999999159| 70.50328963765361|                  0.0|\n",
      "|  6|      57.33|2013-03-29 14:35:...|       -74.00303|      40.747368|        -73.78937|       40.654743|            2.0|      1.0|           3|       2013|         14|         6| 0.30628499999998837| 292.6989273810835|                  3.0|\n",
      "|  7|        7.5|2013-04-21 22:33:...|      -73.964645|      40.760117|        -73.98311|       40.734978|            1.0|      0.0|           4|       2013|         22|         1| 0.04360399999999487|36.229878232458645|                  0.0|\n",
      "|  8|        9.7|2010-07-14 15:30:...|       -73.96983|      40.757874|       -73.991295|        40.75013|            1.0|      0.0|           7|       2010|         15|         4| 0.02920899999999449| 70.14697606662975|                  0.0|\n",
      "|  9|        3.7|2010-12-28 23:06:...|      -73.990974|       40.72383|        -73.98589|        40.72693|            1.0|      0.0|          12|       2010|         23|         3|0.008183999999999969|238.44030981030045|                  2.0|\n",
      "| 10|        4.5|2011-06-17 20:49:...|      -74.002266|       40.72671|        -74.00374|        40.72248|            5.0|      0.0|           6|       2011|         20|         6|0.005703999999987275| 19.09652048516756|                  0.0|\n",
      "| 11|        4.9|2012-05-24 19:46:...|       -73.98645|       40.75191|        -73.98438|       40.760754|            1.0|      0.0|           5|       2012|         19|         5|0.010913999999999646|193.12315073901277|                  2.0|\n",
      "| 12|        7.7|2012-08-18 13:19:...|       -73.95225|       40.76903|       -73.975746|        40.75233|            1.0|      0.0|           8|       2012|         13|         7| 0.04019599999999457|54.564939130849325|                  0.0|\n",
      "| 13|       20.0|2013-02-08 00:13:...|       -73.99183|      40.735313|         -73.9524|        40.79915|            1.0|      1.0|           2|       2013|          0|         6| 0.10326699999999533|211.55777586412466|                  2.0|\n",
      "| 14|        5.5|2013-12-10 17:10:...|       -73.96161|       40.77158|       -73.954865|        40.77789|            1.0|      0.0|          12|       2013|         17|         3|0.013054999999994266|226.83359063346654|                  2.0|\n",
      "| 15|        6.5|2014-08-18 17:01:...|       -73.99293|       40.75801|         -74.0056|        40.73947|            1.0|      0.0|           8|       2014|         17|         2|0.031210000000001514| 34.26933869243828|                  0.0|\n",
      "| 16|        9.5|2015-04-24 17:42:...|       -74.00079|      40.716717|        -74.01393|        40.71532|            5.0|      0.0|           4|       2015|         17|         6|0.014537000000011346| 83.93108489900129|                  0.0|\n",
      "| 17|        7.7|2012-09-03 01:39:...|      -73.996216|      40.742603|         -73.9973|       40.763718|            1.0|      0.0|           9|       2012|          1|         2|0.022198999999986313|177.07502998137235|                  1.0|\n",
      "| 18|       13.5|2013-09-27 15:42:...|       -73.98968|       40.74156|        -73.97103|       40.751522|            1.0|      1.0|           9|       2013|         15|         6| 0.02861200000000963| 241.7355536998018|                  2.0|\n",
      "| 19|       10.5|2014-09-21 17:58:...|       -73.96529|      40.775135|        -73.98337|       40.758884|            1.0|      1.0|           9|       2014|         17|         1| 0.03433099999999456|48.011370896486255|                  0.0|\n",
      "| 20|       25.5|2015-05-17 20:31:...|       -73.95599|       40.76384|        -73.91965|        40.70028|            1.0|      1.0|           5|       2015|         20|         1|  0.0998999999999981|330.26749695268984|                  3.0|\n",
      "+---+-----------+--------------------+----------------+---------------+-----------------+----------------+---------------+---------+------------+-----------+-----------+----------+--------------------+------------------+---------------------+\n",
      "only showing top 20 rows\n",
      "\n",
      "CPU times: user 28.5 ms, sys: 373 µs, total: 28.9 ms\n",
      "Wall time: 2.42 s\n"
     ]
    }
   ],
   "source": [
    "%%time\n",
    "\n",
    "\n",
    "# extracting hour, day, month, year of pickup date\n",
    "df = df.withColumn(\"pickup_month\", month(df.pickup_datetime))\n",
    "df = df.withColumn(\"pickup_year\", year(df.pickup_datetime))\n",
    "df = df.withColumn(\"pickup_hour\", hour(to_timestamp(df.pickup_datetime, \"yyyy-MM-dd HH:mm:ss 'UTC'\")))\n",
    "df = df.withColumn(\"pickup_day\", dayofweek(df.pickup_datetime))\n",
    "\n",
    "\n",
    "# feature engineering - manhattan dist\n",
    "df = df.withColumn(\n",
    "    'fare_distance',\n",
    "    abs( df.pickup_latitude - df.dropoff_latitude) +  abs(df.pickup_longitude - df.dropoff_longitude)\n",
    ")\n",
    "\n",
    "\n",
    "# feature engineering - travel direction\n",
    "df = df.withColumn(\n",
    "    'travel_direction',\n",
    "    (360 - (toDegrees(atan2(   sin(df.pickup_longitude - df.dropoff_longitude) * cos(df.pickup_latitude)  , \\\n",
    "                    cos(df.dropoff_latitude) * sin(df.pickup_latitude) - sin(df.dropoff_latitude) *  cos(df.pickup_latitude)  * cos(df.pickup_longitude - df.dropoff_longitude)   )) + 360) % 360).cast('double')\n",
    ")\n",
    "\n",
    "# create 4 bins for direction (N/E/S/W)\n",
    "bucketizer = Bucketizer(splits=[ 0, 90, 180, 270, 360 ],inputCol=\"travel_direction\", outputCol=\"travel_direction_bins\")\n",
    "df_buck = bucketizer.setHandleInvalid(\"keep\").transform(df)\n",
    "df = df_buck\n",
    "\n",
    "df.show()\n"
   ]
  },
  {
   "cell_type": "code",
   "execution_count": 23,
   "metadata": {},
   "outputs": [
    {
     "name": "stdout",
     "output_type": "stream",
     "text": [
      "+---------------------+\n",
      "|travel_direction_bins|\n",
      "+---------------------+\n",
      "|                  0.0|\n",
      "|                  1.0|\n",
      "|                  3.0|\n",
      "|                  2.0|\n",
      "+---------------------+\n",
      "\n"
     ]
    }
   ],
   "source": [
    "# examining data, check the range values\n",
    "\n",
    "df.select(\"travel_direction_bins\").distinct().show()\n",
    "# df.select(\"pickup_month\").distinct().show()\n",
    "# df.select(\"pickup_year\").distinct().show()\n",
    "# df.select(\"pickup_hour\").distinct().show()\n",
    "# df.select(\"pickup_day\").distinct().show()\n"
   ]
  },
  {
   "cell_type": "code",
   "execution_count": 7,
   "metadata": {},
   "outputs": [
    {
     "name": "stdout",
     "output_type": "stream",
     "text": [
      "+---+-----------+--------------------+----------------+---------------+---------------+---------+------------+-----------+-----------+----------+--------------------+---------------------+--------------------+--------------------+-----------+------------+\n",
      "|key|fare_amount|     pickup_datetime|pickup_longitude|pickup_latitude|passenger_count|high_fare|pickup_month|pickup_year|pickup_hour|pickup_day|       fare_distance|travel_direction_bins|  pickup_coordinates| dropoff_coordinates|pickup_area|dropoff_area|\n",
      "+---+-----------+--------------------+----------------+---------------+---------------+---------+------------+-----------+-----------+----------+--------------------+---------------------+--------------------+--------------------+-----------+------------+\n",
      "|  1|        8.5|2010-03-30 19:27:...|       -73.96539|      40.768574|            1.0|      0.0|           3|       2010|         19|         3| 0.04029399999999583|                  0.0|[-73.96539,40.768...|[-73.998184,40.76...|          0|           0|\n",
      "|  2|      35.47|2010-08-10 20:02:...|      -73.967354|      40.769295|            1.0|      1.0|           8|       2010|         20|         3| 0.03374900000000025|                  2.0|[-73.967354,40.76...|[-73.967285,40.80...|          0|           0|\n",
      "|  3|        6.1|2011-03-13 13:24:...|       -73.96884|      40.758278|            1.0|      0.0|           3|       2011|         13|         1|0.017733000000006882|                  2.0|[-73.96884,40.758...|[-73.961395,40.76...|          0|           0|\n",
      "|  4|        9.7|2011-06-11 19:45:...|       -73.98218|      40.774796|            1.0|      0.0|           6|       2011|         19|         7| 0.03622399999999004|                  2.0|[-73.98218,40.774...|[-73.95431,40.78315]|          0|           0|\n",
      "|  5|        7.7|2011-12-03 13:16:...|        -73.9778|       40.74228|            1.0|      0.0|          12|       2011|         13|         7| 0.02819699999999159|                  0.0| [-73.9778,40.74228]|[-73.998634,40.73...|          0|           0|\n",
      "|  6|      57.33|2013-03-29 14:35:...|       -74.00303|      40.747368|            2.0|      1.0|           3|       2013|         14|         6| 0.30628499999998837|                  3.0|[-74.00303,40.747...|[-73.78937,40.654...|          0|           0|\n",
      "|  7|        7.5|2013-04-21 22:33:...|      -73.964645|      40.760117|            1.0|      0.0|           4|       2013|         22|         1| 0.04360399999999487|                  0.0|[-73.964645,40.76...|[-73.98311,40.734...|          0|           0|\n",
      "|  8|        9.7|2010-07-14 15:30:...|       -73.96983|      40.757874|            1.0|      0.0|           7|       2010|         15|         4| 0.02920899999999449|                  0.0|[-73.96983,40.757...|[-73.991295,40.75...|          0|           0|\n",
      "|  9|        3.7|2010-12-28 23:06:...|      -73.990974|       40.72383|            1.0|      0.0|          12|       2010|         23|         3|0.008183999999999969|                  2.0|[-73.990974,40.72...|[-73.98589,40.72693]|          0|           0|\n",
      "| 10|        4.5|2011-06-17 20:49:...|      -74.002266|       40.72671|            5.0|      0.0|           6|       2011|         20|         6|0.005703999999987275|                  0.0|[-74.002266,40.72...|[-74.00374,40.72248]|          0|           0|\n",
      "| 11|        4.9|2012-05-24 19:46:...|       -73.98645|       40.75191|            1.0|      0.0|           5|       2012|         19|         5|0.010913999999999646|                  2.0|[-73.98645,40.75191]|[-73.98438,40.760...|          0|           0|\n",
      "| 12|        7.7|2012-08-18 13:19:...|       -73.95225|       40.76903|            1.0|      0.0|           8|       2012|         13|         7| 0.04019599999999457|                  0.0|[-73.95225,40.76903]|[-73.975746,40.75...|          0|           0|\n",
      "| 13|       20.0|2013-02-08 00:13:...|       -73.99183|      40.735313|            1.0|      1.0|           2|       2013|          0|         6| 0.10326699999999533|                  2.0|[-73.99183,40.735...| [-73.9524,40.79915]|          0|           0|\n",
      "| 14|        5.5|2013-12-10 17:10:...|       -73.96161|       40.77158|            1.0|      0.0|          12|       2013|         17|         3|0.013054999999994266|                  2.0|[-73.96161,40.77158]|[-73.954865,40.77...|          0|           0|\n",
      "| 15|        6.5|2014-08-18 17:01:...|       -73.99293|       40.75801|            1.0|      0.0|           8|       2014|         17|         2|0.031210000000001514|                  0.0|[-73.99293,40.75801]| [-74.0056,40.73947]|          0|           0|\n",
      "| 16|        9.5|2015-04-24 17:42:...|       -74.00079|      40.716717|            5.0|      0.0|           4|       2015|         17|         6|0.014537000000011346|                  0.0|[-74.00079,40.716...|[-74.01393,40.71532]|          0|           0|\n",
      "| 17|        7.7|2012-09-03 01:39:...|      -73.996216|      40.742603|            1.0|      0.0|           9|       2012|          1|         2|0.022198999999986313|                  1.0|[-73.996216,40.74...|[-73.9973,40.763718]|          0|           0|\n",
      "| 18|       13.5|2013-09-27 15:42:...|       -73.98968|       40.74156|            1.0|      1.0|           9|       2013|         15|         6| 0.02861200000000963|                  2.0|[-73.98968,40.74156]|[-73.97103,40.751...|          0|           0|\n",
      "| 19|       10.5|2014-09-21 17:58:...|       -73.96529|      40.775135|            1.0|      1.0|           9|       2014|         17|         1| 0.03433099999999456|                  0.0|[-73.96529,40.775...|[-73.98337,40.758...|          0|           0|\n",
      "| 20|       25.5|2015-05-17 20:31:...|       -73.95599|       40.76384|            1.0|      1.0|           5|       2015|         20|         1|  0.0998999999999981|                  3.0|[-73.95599,40.76384]|[-73.91965,40.70028]|          0|           0|\n",
      "+---+-----------+--------------------+----------------+---------------+---------------+---------+------------+-----------+-----------+----------+--------------------+---------------------+--------------------+--------------------+-----------+------------+\n",
      "only showing top 20 rows\n",
      "\n",
      "CPU times: user 109 ms, sys: 18.1 ms, total: 127 ms\n",
      "Wall time: 5min 47s\n"
     ]
    }
   ],
   "source": [
    "%%time\n",
    "# K-Mean clustering of the longitude-lattitude inputs\n",
    "# This is due to the fact that New York have 5 famous neighborhoods (Manhattan, Bronx, Queens, Brooklyn, Staten Island) \n",
    "# This is done for both the pickup coordinates and the dropoff coordinates\n",
    "\n",
    "num_clusters = 20  # used 20, split each neighborhood to 4\n",
    "\n",
    "# first, assembling the longitude+lattitude into 1 column\n",
    "vecAssembler = VectorAssembler(inputCols=(\"pickup_longitude\", \"pickup_latitude\"), outputCol=\"pickup_coordinates\")\n",
    "df_ = vecAssembler.transform(df)\n",
    "\n",
    "vecAssembler = VectorAssembler(inputCols=(\"dropoff_longitude\", \"dropoff_latitude\"), outputCol=\"dropoff_coordinates\")\n",
    "dataset = vecAssembler.transform(df_)\n",
    "\n",
    "# remove non-relevant data (since we assembled these features)\n",
    "df_filtered = dataset.drop(\"pickup_datetime\").drop(\"pickup_longitude\").drop(\"pickup_latitude\")\n",
    "df_filtered = dataset.drop(\"dropoff_longitude\").drop(\"dropoff_latitude\").drop(\"travel_direction\")\n",
    "\n",
    "kmeans = KMeans().setK(num_clusters).setSeed(1).setFeaturesCol(\"pickup_coordinates\").setPredictionCol(\"pickup_area\")\n",
    "model = kmeans.fit(df_filtered)\n",
    "predictions_ = model.transform(df_filtered)\n",
    "\n",
    "kmeans = KMeans().setK(num_clusters).setSeed(1).setFeaturesCol(\"dropoff_coordinates\").setPredictionCol(\"dropoff_area\")\n",
    "model = kmeans.fit(predictions_)\n",
    "predictions = model.transform(predictions_)\n",
    "\n",
    "predictions.show() \n",
    "\n",
    "features_ = predictions\n",
    "   "
   ]
  },
  {
   "cell_type": "code",
   "execution_count": 8,
   "metadata": {},
   "outputs": [],
   "source": [
    "# creating 2 new features out of date, season and daytime\n",
    "\n",
    "# 1) According to pickup_month: season (winter - 1-3 (0), spring - 4-6 (1), summer - 7-9 (2), fall - 10-12 (3))\n",
    "features__ = features_.withColumn(\"pickup_season\", functions\n",
    "              .when(((features_.pickup_month >= 1) & (features_.pickup_month <= 3)), 0) #'Winter'\n",
    "              .when(((features_.pickup_month >= 4) & (features_.pickup_month <= 6)), 1) # 'Spring'\n",
    "              .when(((features_.pickup_month >= 7) & (features_.pickup_month <= 9)), 2) # 'Summer'\n",
    "              .when(((features_.pickup_month >= 10) & (features_.pickup_month <= 12)), 3) # 'Fall'\n",
    "                .cast('double'))\n",
    "\n",
    "\n",
    "#2) According to pickup_hour: day_hour (night - 23, 0-4, morning - 5-10, noon - 11-16, evening - 17-22)\n",
    "# These values can be changed as we find fit..\n",
    "features = features__.withColumn(\"pickup_day_time\", functions\n",
    "              .when((((features__.pickup_hour >= 0) & (features__.pickup_hour <= 4)) | (features__.pickup_hour == 23)), 0) # 'Night'\n",
    "              .when(((features__.pickup_hour >= 5) & (features__.pickup_hour <= 10)), 1) # 'Morning'\n",
    "              .when(((features__.pickup_hour >= 11) & (features__.pickup_hour <= 16)), 2) # 'Afternoon'\n",
    "              .when(((features__.pickup_hour >= 17) & (features__.pickup_hour <= 22)), 3) # 'Evening'\n",
    "                .cast('double'))"
   ]
  },
  {
   "cell_type": "code",
   "execution_count": 9,
   "metadata": {},
   "outputs": [
    {
     "name": "stdout",
     "output_type": "stream",
     "text": [
      "+---+---------------+---------+------------+-----------+-----------+----------+--------------------+---------------------+-----------+------------+-------------+---------------+\n",
      "|key|passenger_count|high_fare|pickup_month|pickup_year|pickup_hour|pickup_day|       fare_distance|travel_direction_bins|pickup_area|dropoff_area|pickup_season|pickup_day_time|\n",
      "+---+---------------+---------+------------+-----------+-----------+----------+--------------------+---------------------+-----------+------------+-------------+---------------+\n",
      "|  1|            1.0|      0.0|           3|       2010|         19|         3| 0.04029399999999583|                  0.0|          0|           0|          0.0|            3.0|\n",
      "|  2|            1.0|      1.0|           8|       2010|         20|         3| 0.03374900000000025|                  2.0|          0|           0|          2.0|            3.0|\n",
      "|  3|            1.0|      0.0|           3|       2011|         13|         1|0.017733000000006882|                  2.0|          0|           0|          0.0|            2.0|\n",
      "|  4|            1.0|      0.0|           6|       2011|         19|         7| 0.03622399999999004|                  2.0|          0|           0|          1.0|            3.0|\n",
      "|  5|            1.0|      0.0|          12|       2011|         13|         7| 0.02819699999999159|                  0.0|          0|           0|          3.0|            2.0|\n",
      "|  6|            2.0|      1.0|           3|       2013|         14|         6| 0.30628499999998837|                  3.0|          0|           0|          0.0|            2.0|\n",
      "|  7|            1.0|      0.0|           4|       2013|         22|         1| 0.04360399999999487|                  0.0|          0|           0|          1.0|            3.0|\n",
      "|  8|            1.0|      0.0|           7|       2010|         15|         4| 0.02920899999999449|                  0.0|          0|           0|          2.0|            2.0|\n",
      "|  9|            1.0|      0.0|          12|       2010|         23|         3|0.008183999999999969|                  2.0|          0|           0|          3.0|            0.0|\n",
      "| 10|            5.0|      0.0|           6|       2011|         20|         6|0.005703999999987275|                  0.0|          0|           0|          1.0|            3.0|\n",
      "| 11|            1.0|      0.0|           5|       2012|         19|         5|0.010913999999999646|                  2.0|          0|           0|          1.0|            3.0|\n",
      "| 12|            1.0|      0.0|           8|       2012|         13|         7| 0.04019599999999457|                  0.0|          0|           0|          2.0|            2.0|\n",
      "| 13|            1.0|      1.0|           2|       2013|          0|         6| 0.10326699999999533|                  2.0|          0|           0|          0.0|            0.0|\n",
      "| 14|            1.0|      0.0|          12|       2013|         17|         3|0.013054999999994266|                  2.0|          0|           0|          3.0|            3.0|\n",
      "| 15|            1.0|      0.0|           8|       2014|         17|         2|0.031210000000001514|                  0.0|          0|           0|          2.0|            3.0|\n",
      "| 16|            5.0|      0.0|           4|       2015|         17|         6|0.014537000000011346|                  0.0|          0|           0|          1.0|            3.0|\n",
      "| 17|            1.0|      0.0|           9|       2012|          1|         2|0.022198999999986313|                  1.0|          0|           0|          2.0|            0.0|\n",
      "| 18|            1.0|      1.0|           9|       2013|         15|         6| 0.02861200000000963|                  2.0|          0|           0|          2.0|            2.0|\n",
      "| 19|            1.0|      1.0|           9|       2014|         17|         1| 0.03433099999999456|                  0.0|          0|           0|          2.0|            3.0|\n",
      "| 20|            1.0|      1.0|           5|       2015|         20|         1|  0.0998999999999981|                  3.0|          0|           0|          1.0|            3.0|\n",
      "+---+---------------+---------+------------+-----------+-----------+----------+--------------------+---------------------+-----------+------------+-------------+---------------+\n",
      "only showing top 20 rows\n",
      "\n"
     ]
    }
   ],
   "source": [
    "# dropping non-relevant data for better display of the new extracted features\n",
    "features = features.drop(\"pickup_longitude\").drop(\"pickup_latitude\")\n",
    "#.drop(\"pickup_year\").drop(\"pickup_day\")\n",
    "features = features.drop(\"pickup_coordinates\").drop(\"dropoff_coordinates\")\n",
    "features = features.drop(\"pickup_datetime\")\n",
    "#.drop(\"pickup_month\").drop(\"pickup_hour\")\n",
    "features = features.drop(\"fare_amount\")\n",
    "\n",
    "features.show() "
   ]
  },
  {
   "cell_type": "markdown",
   "metadata": {},
   "source": [
    " **Data Exploration**"
   ]
  },
  {
   "cell_type": "code",
   "execution_count": 53,
   "metadata": {},
   "outputs": [],
   "source": [
    "# convert to pandas and plot (first 10,000 rows)  \n",
    "# without dealing with outliers\n",
    "pdf = df.limit(10000).toPandas()"
   ]
  },
  {
   "cell_type": "code",
   "execution_count": 54,
   "metadata": {},
   "outputs": [
    {
     "data": {
      "image/png": "[encoded data removed]",
      "text/plain": [
       "<Figure size 432x288 with 1 Axes>"
      ]
     },
     "metadata": {
      "needs_background": "light"
     },
     "output_type": "display_data"
    }
   ],
   "source": [
    "pdf['fare_amount'].plot(kind='hist', bins=30,rwidth=0.8)\n",
    "plt.xlabel('Fare distribuition')\n",
    "plt.show()"
   ]
  },
  {
   "cell_type": "code",
   "execution_count": 55,
   "metadata": {},
   "outputs": [
    {
     "data": {
      "image/png": "[encoded data removed]",
      "text/plain": [
       "<Figure size 432x288 with 1 Axes>"
      ]
     },
     "metadata": {
      "needs_background": "light"
     },
     "output_type": "display_data"
    }
   ],
   "source": [
    "pdf.plot(kind='scatter',x='fare_amount',y='fare_distance')\n",
    "plt.xlabel('Ride Fare')\n",
    "plt.ylabel('Ride length')\n",
    "plt.show()"
   ]
  },
  {
   "cell_type": "code",
   "execution_count": 56,
   "metadata": {},
   "outputs": [
    {
     "data": {
      "image/png": "[encoded data removed]",
      "text/plain": [
       "<Figure size 432x288 with 1 Axes>"
      ]
     },
     "metadata": {
      "needs_background": "light"
     },
     "output_type": "display_data"
    }
   ],
   "source": [
    "pdf.groupby('pickup_hour').mean().plot(kind='bar',y='fare_distance')\n",
    "plt.xlabel('Hour of day')\n",
    "plt.xlabel('average ride length')\n",
    "\n",
    "plt.show()"
   ]
  },
  {
   "cell_type": "code",
   "execution_count": 57,
   "metadata": {},
   "outputs": [
    {
     "data": {
      "image/png": "[encoded data removed]",
      "text/plain": [
       "<Figure size 432x288 with 1 Axes>"
      ]
     },
     "metadata": {
      "needs_background": "light"
     },
     "output_type": "display_data"
    }
   ],
   "source": [
    "# convert to pandas and plot (first 10,000 rows)  \n",
    "# this is set to handle with the outliers, \n",
    "# seen on the first graph of Ride Fare Vs. Ride length\n",
    "df_filtered = df.filter(((df.fare_amount > 0) &  (df.fare_amount < 100)))\n",
    "df_filtered = df_filtered.filter(((df_filtered.fare_distance > 0) &  (df_filtered.fare_distance < 5)))\n",
    "pdf_filtered = df_filtered.limit(10000).toPandas()\n",
    "# same graph as above, with the outliers removal\n",
    "# dealing with outliers\n",
    "pdf_filtered.plot(kind='scatter',x='fare_amount',y='fare_distance')\n",
    "plt.xlabel('Ride Fare')\n",
    "plt.ylabel('Ride length')\n",
    "plt.show()"
   ]
  },
  {
   "cell_type": "code",
   "execution_count": 10,
   "metadata": {},
   "outputs": [],
   "source": [
    "# dealing with the outliers, to match the second graph we displayed\n",
    "features = features.filter(((features.fare_distance > 0) &  (features.fare_distance < 5)))"
   ]
  },
  {
   "cell_type": "markdown",
   "metadata": {},
   "source": [
    "***TRAINING and VALIDATION - Logistic Regression and Gradient Boosted Trees***"
   ]
  },
  {
   "cell_type": "code",
   "execution_count": 11,
   "metadata": {},
   "outputs": [],
   "source": [
    "# function to print the area under the curve\n",
    "\n",
    "#Function which will calcualte f1 scores:\n",
    "def model_performance(model, test_data, metric = 'areaUnderROC'):\n",
    "    \"\"\" Calculate Model Scores using f1 metric \n",
    "        Input: \n",
    "            model- trained model or pipeline object\n",
    "            metric- the metric used to measure performance\n",
    "            data - data on which performance measurement should be done\n",
    "        Output:\n",
    "            score\n",
    "    \"\"\"\n",
    "    evaluator = BinaryClassificationEvaluator( labelCol=\"high_fare\").setMetricName(metric)\n",
    "    \n",
    "    prediction_result = model.transform(test_data)\n",
    "    # find f1 score\n",
    "    score = evaluator.evaluate(prediction_result)\n",
    "    return score"
   ]
  },
  {
   "cell_type": "code",
   "execution_count": 12,
   "metadata": {},
   "outputs": [],
   "source": [
    "#1hot encoding for numerical features - ended up not using this!\n",
    "from pyspark.ml.feature import OneHotEncoderEstimator, OneHotEncoderModel\n",
    "\n",
    "encoder = OneHotEncoderEstimator(inputCols=[\"travel_direction_bins\", \"pickup_area\", \"dropoff_area\", \"pickup_season\", \"pickup_day_time\",\\\n",
    "                                   \"pickup_year\", \"pickup_month\", \"pickup_day\", \"pickup_hour\"],\n",
    "                        outputCols=[\"travel_direction_bins_1hot\", \"pickup_area_1hot\", \"dropoff_area_1hot\", \"pickup_season_1hot\", \"pickup_day_time_1hot\",\\\n",
    "                                   \"pickup_year_1hot\", \"pickup_month_1hot\", \"pickup_day_1hot\", \"pickup_hour_1hot\"])\n",
    "model = encoder.fit(features)\n",
    "encoded_features = model.transform(features)"
   ]
  },
  {
   "cell_type": "code",
   "execution_count": 12,
   "metadata": {},
   "outputs": [],
   "source": [
    "# Splitting training data into train, test\n",
    "# training, test = encoded_features.randomSplit([0.8, 0.2]);\n",
    "training, test = features.randomSplit([0.8, 0.2]);"
   ]
  },
  {
   "cell_type": "markdown",
   "metadata": {},
   "source": [
    "***Logistic Reggression - area under the ROC curve score***"
   ]
  },
  {
   "cell_type": "code",
   "execution_count": 47,
   "metadata": {},
   "outputs": [
    {
     "name": "stdout",
     "output_type": "stream",
     "text": [
      "CPU times: user 60 ms, sys: 22.6 ms, total: 82.6 ms\n",
      "Wall time: 1min 51s\n"
     ]
    },
    {
     "data": {
      "text/plain": [
       "0.9202767067559607"
      ]
     },
     "execution_count": 47,
     "metadata": {},
     "output_type": "execute_result"
    }
   ],
   "source": [
    "%%time\n",
    "\n",
    "# Creating the model of the logistic reggression\n",
    "\n",
    "#create VectorAssembler to push data to ML models\n",
    "assembler = VectorAssembler(inputCols=[\"passenger_count\", \"pickup_season\", \"pickup_day_time\", \"fare_distance\", \"pickup_area\", \"dropoff_area\", \"travel_direction_bins\"],\\\n",
    "                            outputCol=\"classifier_input\")\n",
    "\n",
    "\n",
    "\n",
    "\n",
    "scaler = StandardScaler(inputCol=\"classifier_input\", outputCol=\"Features\", withMean=False)  # normalize features\n",
    "\n",
    "model_lr = LogisticRegression(featuresCol=\"Features\", labelCol=\"high_fare\") \n",
    "\n",
    "pipeline_lr = Pipeline(stages=[assembler, scaler, model_lr])\n",
    "\n",
    "# area under the ROC curve score\n",
    "# Training with logistic regression\n",
    "model_lr_fitted = pipeline_lr.fit(training)\n",
    "model_performance(model_lr_fitted, test)"
   ]
  },
  {
   "cell_type": "markdown",
   "metadata": {},
   "source": [
    "***Logistic Reggression - confusion matrix***"
   ]
  },
  {
   "cell_type": "code",
   "execution_count": 16,
   "metadata": {},
   "outputs": [
    {
     "name": "stderr",
     "output_type": "stream",
     "text": [
      "ERROR:root:Exception while sending command.\n",
      "Traceback (most recent call last):\n",
      "  File \"/usr/lib/spark/python/lib/py4j-0.10.7-src.zip/py4j/java_gateway.py\", line 1159, in send_command\n",
      "    raise Py4JNetworkError(\"Answer from Java side is empty\")\n",
      "py4j.protocol.Py4JNetworkError: Answer from Java side is empty\n",
      "\n",
      "During handling of the above exception, another exception occurred:\n",
      "\n",
      "Traceback (most recent call last):\n",
      "  File \"/usr/lib/spark/python/lib/py4j-0.10.7-src.zip/py4j/java_gateway.py\", line 985, in send_command\n",
      "    response = connection.send_command(command)\n",
      "  File \"/usr/lib/spark/python/lib/py4j-0.10.7-src.zip/py4j/java_gateway.py\", line 1164, in send_command\n",
      "    \"Error while receiving\", e, proto.ERROR_ON_RECEIVE)\n",
      "py4j.protocol.Py4JNetworkError: Error while receiving\n"
     ]
    },
    {
     "name": "stdout",
     "output_type": "stream",
     "text": [
      "[[0.57107207 0.03880614]\n",
      " [0.10201398 0.28810781]]\n",
      "CPU times: user 3min 33s, sys: 1.62 s, total: 3min 35s\n",
      "Wall time: 7min 10s\n"
     ]
    }
   ],
   "source": [
    "%%time\n",
    "\n",
    "# Compute raw scores on the test set\n",
    "#select only prediction and label columns\n",
    "predictions = model_lr_fitted.transform(test)\n",
    "\n",
    "# predictions\n",
    "y_true = predictions.select(['high_fare']).collect()\n",
    "y_pred = predictions.select(['prediction']).collect()\n",
    "print(confusion_matrix(y_true, y_pred, normalize='all'))\n"
   ]
  },
  {
   "cell_type": "code",
   "execution_count": null,
   "metadata": {},
   "outputs": [],
   "source": [
    " "
   ]
  },
  {
   "cell_type": "markdown",
   "metadata": {},
   "source": [
    "***Gradient Boost Tree - area under the ROC curve score - 1 slave fit***"
   ]
  },
  {
   "cell_type": "code",
   "execution_count": 18,
   "metadata": {},
   "outputs": [
    {
     "name": "stdout",
     "output_type": "stream",
     "text": [
      "CPU times: user 106 ms, sys: 18.1 ms, total: 124 ms\n",
      "Wall time: 5min 23s\n"
     ]
    },
    {
     "data": {
      "text/plain": [
       "0.9373511994745083"
      ]
     },
     "execution_count": 18,
     "metadata": {},
     "output_type": "execute_result"
    }
   ],
   "source": [
    "%%time\n",
    "# Creating the model of the gradient boost tree\n",
    "\n",
    "assembler_gbt = VectorAssembler(inputCols=[\"passenger_count\", \"pickup_season\", \"pickup_day_time\", \"fare_distance\", \"pickup_area\", \"dropoff_area\", \"travel_direction_bins\", \"pickup_year\", \"pickup_month\", \"pickup_day\", \"pickup_hour\"],\\\n",
    "                            outputCol=\"gbt_classifier_input\")\n",
    "scaler = StandardScaler(inputCol=\"gbt_classifier_input\", outputCol=\"features_gbt\", withMean=True)  # normalize features\n",
    "gbt = GBTClassifier(labelCol=\"high_fare\", featuresCol=\"features_gbt\", maxIter=9)\n",
    "\n",
    "pipeline_gbt = Pipeline(stages=[assembler_gbt, scaler,  gbt])\n",
    "\n",
    "model_gbt_fitted = pipeline_gbt.fit(training)\n",
    "model_performance(model_gbt_fitted, test)"
   ]
  },
  {
   "cell_type": "markdown",
   "metadata": {},
   "source": [
    "***Gradient Boost Tree - area under the ROC curve score - 10 slave fit***"
   ]
  },
  {
   "cell_type": "code",
   "execution_count": 21,
   "metadata": {},
   "outputs": [
    {
     "name": "stdout",
     "output_type": "stream",
     "text": [
      "CPU times: user 101 ms, sys: 23.6 ms, total: 124 ms\n",
      "Wall time: 5min 34s\n"
     ]
    },
    {
     "data": {
      "text/plain": [
       "0.9376746581680824"
      ]
     },
     "execution_count": 21,
     "metadata": {},
     "output_type": "execute_result"
    }
   ],
   "source": [
    "%%time\n",
    "# Creating the model of the gradient boost tree\n",
    "\n",
    "assembler_gbt = VectorAssembler(inputCols=[\"passenger_count\", \"pickup_season\", \"pickup_day_time\", \"fare_distance\", \"pickup_area\", \"dropoff_area\", \"travel_direction_bins\", \"pickup_year\", \"pickup_month\", \"pickup_day\", \"pickup_hour\"],\\\n",
    "                            outputCol=\"gbt_classifier_input\")\n",
    "scaler = StandardScaler(inputCol=\"gbt_classifier_input\", outputCol=\"features_gbt\")  # normalize features\n",
    "gbt = GBTClassifier(labelCol=\"high_fare\", featuresCol=\"features_gbt\", maxIter=10)\n",
    "\n",
    "pipeline_gbt = Pipeline(stages=[assembler_gbt, scaler,  gbt])\n",
    "\n",
    "model_gbt_fitted = pipeline_gbt.fit(training)\n",
    "model_performance(model_gbt_fitted, test)"
   ]
  },
  {
   "cell_type": "code",
   "execution_count": 14,
   "metadata": {},
   "outputs": [
    {
     "name": "stdout",
     "output_type": "stream",
     "text": [
      "+---+---------------+---------+------------+-----------+-----------+----------+--------------------+---------------------+-----------+------------+-------------+---------------+--------------------+--------------------+--------------------+--------------------+----------+\n",
      "|key|passenger_count|high_fare|pickup_month|pickup_year|pickup_hour|pickup_day|       fare_distance|travel_direction_bins|pickup_area|dropoff_area|pickup_season|pickup_day_time|gbt_classifier_input|        features_gbt|       rawPrediction|         probability|prediction|\n",
      "+---+---------------+---------+------------+-----------+-----------+----------+--------------------+---------------------+-----------+------------+-------------+---------------+--------------------+--------------------+--------------------+--------------------+----------+\n",
      "|  5|            1.0|      0.0|          12|       2011|         13|         7| 0.02819699999999159|                  0.0|          0|           0|          3.0|            2.0|[1.0,3.0,2.0,0.02...|[-0.5180003323637...|[0.80046037531023...|[0.83214703339441...|       0.0|\n",
      "| 11|            1.0|      0.0|           5|       2012|         19|         5|0.010913999999999646|                  2.0|          0|           0|          1.0|            3.0|[1.0,1.0,3.0,0.01...|[-0.5180003323637...|[1.13304605858732...|[0.90602959826716...|       0.0|\n",
      "| 12|            1.0|      0.0|           8|       2012|         13|         7| 0.04019599999999457|                  0.0|          0|           0|          2.0|            2.0|[1.0,2.0,2.0,0.04...|[-0.5180003323637...|[0.14531385813454...|[0.57214980131739...|       0.0|\n",
      "| 18|            1.0|      1.0|           9|       2013|         15|         6| 0.02861200000000963|                  2.0|          0|           0|          2.0|            2.0|[1.0,2.0,2.0,0.02...|[-0.5180003323637...|[-0.0233754744637...|[0.48831439107936...|       1.0|\n",
      "| 22|            1.0|      0.0|           2|       2012|         21|         1|0.013249000000008948|                  0.0|          0|           0|          0.0|            3.0|[1.0,0.0,3.0,0.01...|[-0.5180003323637...|[1.13304605858732...|[0.90602959826716...|       0.0|\n",
      "| 28|            1.0|      0.0|          10|       2009|         20|         5|0.017227999999995802|                  0.0|          0|           0|          3.0|            3.0|[1.0,3.0,3.0,0.01...|[-0.5180003323637...|[1.09824190613563...|[0.89993331138696...|       0.0|\n",
      "| 32|            1.0|      1.0|           5|       2011|         15|         2| 0.06908100000001127|                  2.0|          0|           0|          1.0|            2.0|[1.0,1.0,2.0,0.06...|[-0.5180003323637...|[-1.0993329167972...|[0.09987036169600...|       1.0|\n",
      "| 34|            1.0|      0.0|           1|       2010|          9|         3|0.013255000000000905|                  3.0|          0|           0|          0.0|            1.0|[1.0,0.0,1.0,0.01...|[-0.5180003323637...|[1.13304605858732...|[0.90602959826716...|       0.0|\n",
      "| 42|            1.0|      0.0|           2|       2013|         23|         4|0.009768000000001109|                  1.0|          0|           0|          0.0|            0.0|[1.0,0.0,0.0,0.00...|[-0.5180003323637...|[1.09411143248608...|[0.89918692374615...|       0.0|\n",
      "| 52|            1.0|      0.0|           4|       2010|         21|         6|0.026324999999992826|                  3.0|          0|           0|          1.0|            3.0|[1.0,1.0,3.0,0.02...|[-0.5180003323637...|[0.87229754552377...|[0.85126978737255...|       0.0|\n",
      "| 56|            3.0|      1.0|           8|       2013|         15|         6| 0.09506599999998855|                  0.0|          0|           0|          2.0|            2.0|[3.0,2.0,2.0,0.09...|[1.21372418587342...|[-1.1724280705341...|[0.08747550312801...|       1.0|\n",
      "| 57|            5.0|      1.0|           2|       2009|          3|         2| 0.04609799999999353|                  1.0|          0|           0|          0.0|            0.0|[5.0,0.0,0.0,0.04...|[2.94544870411056...|[-0.2677586078233...|[0.36923100695345...|       1.0|\n",
      "| 59|            1.0|      0.0|           9|       2011|         21|         6|0.030136000000005936|                  0.0|          0|           0|          2.0|            3.0|[1.0,2.0,3.0,0.03...|[-0.5180003323637...|[0.60224983173032...|[0.76932428125442...|       0.0|\n",
      "| 65|            1.0|      1.0|           5|       2010|         21|         3| 0.06237100000000595|                  3.0|          0|           0|          1.0|            3.0|[1.0,1.0,3.0,0.06...|[-0.5180003323637...|[-0.8838297602242...|[0.14583363194320...|       1.0|\n",
      "| 69|            1.0|      0.0|          12|       2011|          8|         5| 0.00487900000000252|                  1.0|          0|           0|          3.0|            1.0|[1.0,3.0,1.0,0.00...|[-0.5180003323637...|[0.89903915486573...|[0.85791484797215...|       0.0|\n",
      "| 72|            2.0|      1.0|          11|       2014|         14|         1|0.022520000000000095|                  3.0|          0|           0|          3.0|            2.0|[2.0,3.0,2.0,0.02...|[0.34786192675485...|[0.43496418107007...|[0.70473079143094...|       0.0|\n",
      "| 77|            1.0|      0.0|           7|       2012|          9|         2|0.023254999999998915|                  2.0|          0|           0|          2.0|            1.0|[1.0,2.0,1.0,0.02...|[-0.5180003323637...|[0.93304783603732...|[0.86600586747792...|       0.0|\n",
      "| 81|            5.0|      0.0|           2|       2011|         23|         5|0.013843000000008487|                  2.0|          0|           0|          0.0|            0.0|[5.0,0.0,0.0,0.01...|[2.94544870411056...|[1.13304605858732...|[0.90602959826716...|       0.0|\n",
      "| 92|            1.0|      1.0|           6|       2015|         10|         4| 0.19886999999999944|                  2.0|          0|           0|          1.0|            1.0|[1.0,1.0,1.0,0.19...|[-0.5180003323637...|[-1.1747873317308...|[0.08709958639114...|       1.0|\n",
      "| 96|            1.0|      1.0|           4|       2013|         22|         3| 0.21297499999999303|                  0.0|          0|           0|          1.0|            3.0|[1.0,1.0,3.0,0.21...|[-0.5180003323637...|[-1.1724280705341...|[0.08747550312801...|       1.0|\n",
      "+---+---------------+---------+------------+-----------+-----------+----------+--------------------+---------------------+-----------+------------+-------------+---------------+--------------------+--------------------+--------------------+--------------------+----------+\n",
      "only showing top 20 rows\n",
      "\n",
      "CPU times: user 12.7 ms, sys: 16.6 ms, total: 29.3 ms\n",
      "Wall time: 13.3 s\n"
     ]
    }
   ],
   "source": [
    "%%time\n",
    "\n",
    "# Compute raw scores on the test set\n",
    "predictions = model_gbt_fitted.transform(test)\n",
    "predictions.show()"
   ]
  },
  {
   "cell_type": "markdown",
   "metadata": {},
   "source": [
    "***Gradient Boost Tree - confusion matrix***"
   ]
  },
  {
   "cell_type": "code",
   "execution_count": 14,
   "metadata": {},
   "outputs": [
    {
     "name": "stdout",
     "output_type": "stream",
     "text": [
      "[[0.5645981  0.04548553]\n",
      " [0.08191658 0.30799979]]\n",
      "CPU times: user 3min 54s, sys: 2.12 s, total: 3min 56s\n",
      "Wall time: 16min 15s\n"
     ]
    }
   ],
   "source": [
    "%%time\n",
    "# predictions = model_gbt_fitted.transform(test)\n",
    "\n",
    "# predictions\n",
    "y_true = predictions.select(['high_fare']).collect()\n",
    "y_pred = predictions.select(['prediction']).collect()\n",
    "print(confusion_matrix(y_true, y_pred, normalize='all'))"
   ]
  },
  {
   "cell_type": "markdown",
   "metadata": {},
   "source": [
    "***MultiLayer Perceptron***"
   ]
  },
  {
   "cell_type": "code",
   "execution_count": null,
   "metadata": {},
   "outputs": [],
   "source": [
    "from pyspark.ml.classification import MultilayerPerceptronClassifier\n",
    "from pyspark.ml.evaluation import MulticlassClassificationEvaluator\n",
    "\n",
    "\n",
    "\n",
    "\n",
    "# specify layers for the neural network:\n",
    "# input layer of size 11 (features), two intermediate of size 8 and 6\n",
    "# and output of size 2 (classes)\n",
    "layers = [11, 8, 6, 2]\n",
    "\n",
    "\n",
    "\n",
    "# train the model\n",
    "model = trainer.fit(train)\n",
    "\n",
    "\n",
    "\n",
    "assembler_mlp = VectorAssembler(inputCols=[\"passenger_count\", \"pickup_season\", \"pickup_day_time\", \"fare_distance\", \"pickup_area\", \"dropoff_area\", \"travel_direction_bins\", \"pickup_year\", \"pickup_month\", \"pickup_day\", \"pickup_hour\"],\\\n",
    "                            outputCol=\"mlp_classifier_input\")\n",
    "scaler = StandardScaler(inputCol=\"mlp_classifier_input\", outputCol=\"features_mlp\", withMean=True)  # normalize features\n",
    "# gbt = GBTClassifier(labelCol=\"high_fare\", featuresCol=\"features_gbt\")\n",
    "mlp = MultilayerPerceptronClassifier(labelCol=\"high_fare\", featuresCol=\"features_gbt\", maxIter=100, layers=layers, blockSize=128, seed=1234)\n",
    "\n",
    "pipeline_mlp = Pipeline(stages=[assembler_mlp, scaler,  mlp])\n",
    "\n",
    "model_mlp_fitted = pipeline_mlp.fit(training)\n",
    "model_performance(model_mlp_fitted, test)\n",
    "\n",
    "\n",
    "# compute accuracy on the test set\n",
    "result = model.transform(test)\n",
    "predictionAndLabels = result.select(\"prediction\", \"label\")\n",
    "evaluator = MulticlassClassificationEvaluator(metricName=\"accuracy\")\n",
    "print(\"Test set accuracy = \" + str(evaluator.evaluate(predictionAndLabels)))"
   ]
  },
  {
   "cell_type": "code",
   "execution_count": null,
   "metadata": {},
   "outputs": [],
   "source": [
    "# Compute raw scores on the test set\n",
    "predictions = model_mlp_fitted.transform(test)\n",
    "# predictions.show()\n",
    "\n",
    "y_true = predictions.select(['high_fare']).collect()\n",
    "y_pred = predictions.select(['prediction']).collect()\n",
    "print(confusion_matrix(y_true, y_pred, normalize='all'))"
   ]
  },
  {
   "cell_type": "markdown",
   "metadata": {},
   "source": [
    "***Predicting Test Results***"
   ]
  },
  {
   "cell_type": "markdown",
   "metadata": {},
   "source": [
    "***Working on the test set file***"
   ]
  },
  {
   "cell_type": "code",
   "execution_count": 22,
   "metadata": {},
   "outputs": [
    {
     "name": "stdout",
     "output_type": "stream",
     "text": [
      "Size : 10000\n",
      "CPU times: user 119 ms, sys: 28.4 ms, total: 147 ms\n",
      "Wall time: 5.96 s\n"
     ]
    }
   ],
   "source": [
    "%%time\n",
    "\n",
    "# get the test data ready for prediction \n",
    "schema = StructType([\n",
    "    StructField(\"key\", IntegerType()),\n",
    "    StructField(\"pickup_datetime\", StringType()),\n",
    "    StructField(\"pickup_longitude\", DoubleType()),\n",
    "    StructField(\"pickup_latitude\", DoubleType()),\n",
    "    StructField(\"dropoff_longitude\", DoubleType()),\n",
    "    StructField(\"dropoff_latitude\", DoubleType()),\n",
    "    StructField(\"passenger_count\", DoubleType())\n",
    "])\n",
    "\n",
    "\n",
    "df = sc.read.csv(\"/user/hadoop/idc_test.csv\", schema=schema, header = True)\n",
    "print(\"Size : {}\".format(df.count()))\n",
    "\n",
    "# Take median values for missing values\n",
    "imputer = Imputer(strategy='mean', missingValue=0,\n",
    "                  inputCols= [\"passenger_count\"], \n",
    "                  outputCols=[ \"passenger_count\"]\n",
    ")\n",
    "\n",
    "imputer.fit(df).transform(df)\n",
    "df.withColumn(\"passenger_count\", df.passenger_count.cast(\"double\"))\n",
    "\n",
    "\n",
    "\n",
    "# extracting hour, day, month, year of pickup date\n",
    "df = df.withColumn(\"pickup_month\", month(df.pickup_datetime))\n",
    "df = df.withColumn(\"pickup_year\", year(df.pickup_datetime))\n",
    "df = df.withColumn(\"pickup_hour\", hour(to_timestamp(df.pickup_datetime, \"yyyy-MM-dd HH:mm:ss 'UTC'\")))\n",
    "df = df.withColumn(\"pickup_day\", dayofweek(df.pickup_datetime))\n",
    "\n",
    "\n",
    "# feature engineering - manhattan dist\n",
    "df = df.withColumn(\n",
    "    'fare_distance',\n",
    "    abs( df.pickup_latitude - df.dropoff_latitude) +  abs(df.pickup_longitude - df.dropoff_longitude)\n",
    ")\n",
    "\n",
    "\n",
    "# feature engineering - travel direction\n",
    "df = df.withColumn(\n",
    "    'travel_direction',\n",
    "    (360 - (toDegrees(atan2(   sin(df.pickup_longitude - df.dropoff_longitude) * cos(df.pickup_latitude)  , \\\n",
    "                    cos(df.dropoff_latitude) * sin(df.pickup_latitude) - sin(df.dropoff_latitude) *  cos(df.pickup_latitude)  * cos(df.pickup_longitude - df.dropoff_longitude)   )) + 360) % 360).cast('double')\n",
    ")\n",
    "\n",
    "# create 4 bins for direction (N/E/S/W)\n",
    "bucketizer = Bucketizer(splits=[ 0, 90, 180, 270, 360 ],inputCol=\"travel_direction\", outputCol=\"travel_direction_bins\")\n",
    "df_buck = bucketizer.setHandleInvalid(\"keep\").transform(df)\n",
    "df = df_buck\n",
    "\n",
    "\n",
    "\n",
    "\n",
    "# first, assembling the longitude+lattitude into 1 column\n",
    "vecAssembler = VectorAssembler(inputCols=(\"pickup_longitude\", \"pickup_latitude\"), outputCol=\"pickup_coordinates\")\n",
    "df_ = vecAssembler.transform(df)\n",
    "\n",
    "vecAssembler = VectorAssembler(inputCols=(\"dropoff_longitude\", \"dropoff_latitude\"), outputCol=\"dropoff_coordinates\")\n",
    "dataset = vecAssembler.transform(df_)\n",
    "\n",
    "# remove non-relevant data (since we assembled these features)\n",
    "df_filtered = dataset.drop(\"pickup_datetime\").drop(\"pickup_longitude\").drop(\"pickup_latitude\")\n",
    "df_filtered = dataset.drop(\"dropoff_longitude\").drop(\"dropoff_latitude\").drop(\"travel_direction\")\n",
    "\n",
    "kmeans = KMeans().setK(num_clusters).setSeed(1).setFeaturesCol(\"pickup_coordinates\").setPredictionCol(\"pickup_area\")\n",
    "model = kmeans.fit(df_filtered)\n",
    "predictions_ = model.transform(df_filtered)\n",
    "\n",
    "kmeans = KMeans().setK(num_clusters).setSeed(1).setFeaturesCol(\"dropoff_coordinates\").setPredictionCol(\"dropoff_area\")\n",
    "model = kmeans.fit(predictions_)\n",
    "predictions = model.transform(predictions_)\n",
    "\n",
    "\n",
    "features_ = predictions\n",
    "\n",
    "\n",
    "from pyspark.sql import functions\n",
    "#TODO: create 2 new features out of date: \n",
    "# 1) According to pickup_month: season (winter - 1-3 (0), spring - 4-6 (1), summer - 7-9 (2), fall - 10-12 (3))\n",
    "features__ = features_.withColumn(\"pickup_season\", functions\n",
    "              .when(((features_.pickup_month >= 1) & (features_.pickup_month <= 3)), 0) #'Winter'\n",
    "              .when(((features_.pickup_month >= 4) & (features_.pickup_month <= 6)), 1) # 'Spring'\n",
    "              .when(((features_.pickup_month >= 7) & (features_.pickup_month <= 9)), 2) # 'Summer'\n",
    "              .when(((features_.pickup_month >= 10) & (features_.pickup_month <= 12)), 3) # 'Fall'\n",
    "                .cast('double'))\n",
    "\n",
    "\n",
    "#2) According to pickup_hour: day_hour (night - 23, 0-4, morning - 5-10, noon - 11-16, evening - 17-22)\n",
    "# These values can be changed as we find fit..\n",
    "features = features__.withColumn(\"pickup_day_time\", functions\n",
    "              .when((((features__.pickup_hour >= 0) & (features__.pickup_hour <= 4)) | (features__.pickup_hour == 23)), 0) # 'Night'\n",
    "              .when(((features__.pickup_hour >= 5) & (features__.pickup_hour <= 10)), 1) # 'Morning'\n",
    "              .when(((features__.pickup_hour >= 11) & (features__.pickup_hour <= 16)), 2) # 'Afternoon'\n",
    "              .when(((features__.pickup_hour >= 17) & (features__.pickup_hour <= 22)), 3) # 'Evening'\n",
    "                .cast('double'))\n",
    "\n",
    "\n",
    "# dropping non-relevant data for better display of the new extracted features\n",
    "features = features.drop(\"pickup_longitude\").drop(\"pickup_latitude\")\n",
    "#.drop(\"pickup_year\").drop(\"pickup_day\")\n",
    "features = features.drop(\"pickup_coordinates\").drop(\"dropoff_coordinates\")\n",
    "features = features.drop(\"pickup_datetime\")\n",
    "#.drop(\"pickup_month\").drop(\"pickup_hour\")\n",
    "features = features.drop(\"fare_amount\")\n",
    "\n",
    "\n",
    "encoded_features = features\n",
    "\n",
    "predictions = model_gbt_fitted.transform(encoded_features)\n",
    "#predictions = model_lr_fitted.transform(test_data)\n",
    "\n",
    "\n",
    "predictions = predictions.drop(\"fare_distance\").drop(\"travel_direction_bins\").drop(\"pickup_area\").drop(\"dropoff_area\").drop(\"pickup_season\").drop(\"pickup_day_time\").drop(\"gbt_classifier_input\")\\\n",
    ".drop(\"features_gbt\").drop(\"rawPrediction\").drop(\"probability\").drop(\"passenger_count\")\n",
    "predictions = predictions.selectExpr(\"key as key\", \"prediction as high_fare\")  # rename accordingly\n",
    "# predictions.show()\n"
   ]
  },
  {
   "cell_type": "code",
   "execution_count": 24,
   "metadata": {},
   "outputs": [
    {
     "name": "stdout",
     "output_type": "stream",
     "text": [
      "+--------+---------+\n",
      "|     key|high_fare|\n",
      "+--------+---------+\n",
      "|19990001|      0.0|\n",
      "|19990002|      1.0|\n",
      "|19990003|      0.0|\n",
      "|19990004|      0.0|\n",
      "|19990005|      0.0|\n",
      "|19990006|      0.0|\n",
      "|19990007|      0.0|\n",
      "|19990008|      0.0|\n",
      "|19990009|      0.0|\n",
      "|19990010|      0.0|\n",
      "|19990011|      1.0|\n",
      "|19990012|      0.0|\n",
      "|19990013|      0.0|\n",
      "|19990014|      0.0|\n",
      "|19990015|      1.0|\n",
      "|19990016|      0.0|\n",
      "|19990017|      0.0|\n",
      "|19990018|      0.0|\n",
      "|19990019|      1.0|\n",
      "|19990020|      1.0|\n",
      "+--------+---------+\n",
      "only showing top 20 rows\n",
      "\n"
     ]
    }
   ],
   "source": [
    "predictions.show()\n",
    "\n",
    "# creating the submission file\n",
    "predictions.write.csv('submission2.csv', header='true')"
   ]
  },
  {
   "cell_type": "code",
   "execution_count": 25,
   "metadata": {},
   "outputs": [],
   "source": [
    "# copy results from hadoop fs to local\n",
    "!hadoop fs -get submission2.csv ."
   ]
  },
  {
   "cell_type": "markdown",
   "metadata": {},
   "source": []
  },
  {
   "cell_type": "markdown",
   "metadata": {},
   "source": []
  },
  {
   "cell_type": "markdown",
   "metadata": {},
   "source": []
  }
 ],
 "metadata": {
  "kernelspec": {
   "display_name": "Python 3",
   "language": "python",
   "name": "python3"
  },
  "language_info": {
   "codemirror_mode": {
    "name": "ipython",
    "version": 3
   },
   "file_extension": ".py",
   "mimetype": "text/x-python",
   "name": "python",
   "nbconvert_exporter": "python",
   "pygments_lexer": "ipython3",
   "version": "3.6.8"
  }
 },
 "nbformat": 4,
 "nbformat_minor": 4
}
